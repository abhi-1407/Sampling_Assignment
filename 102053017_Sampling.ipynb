{
 "cells": [
  {
   "cell_type": "code",
   "execution_count": 1,
   "id": "86f72440",
   "metadata": {},
   "outputs": [],
   "source": [
    "from sklearn.model_selection import train_test_split\n",
    "from sklearn.metrics import accuracy_score\n",
    "from imblearn.under_sampling import RandomUnderSampler, TomekLinks, NeighbourhoodCleaningRule\n",
    "from imblearn.over_sampling import RandomOverSampler, ADASYN\n",
    "from sklearn.tree import DecisionTreeClassifier\n",
    "from sklearn.neighbors import KNeighborsClassifier\n",
    "from sklearn.ensemble import RandomForestClassifier\n",
    "from sklearn.linear_model import LogisticRegression\n",
    "from sklearn.svm import SVC\n",
    "from sklearn.ensemble import ExtraTreesClassifier\n",
    "import numpy as np\n",
    "import pandas as pd\n",
    "\n"
   ]
  },
  {
   "cell_type": "code",
   "execution_count": 2,
   "id": "e5ab2a92",
   "metadata": {},
   "outputs": [],
   "source": [
    "url = 'https://raw.githubusercontent.com/AnjulaMehto/Sampling_Assignment/main/Creditcard_data.csv'\n",
    "data = pd.read_csv(url)\n",
    "\n",
    "X = data.drop('Class', axis=1)\n",
    "y = data['Class']\n",
    "\n",
    "\n",
    "X_train, X_test, y_train, y_test = train_test_split(X, y, test_size=0.2, random_state=100)\n",
    "\n",
    "z = 2.57  \n",
    "m = 0.05  \n",
    "\n",
    "\n",
    "n1 = int(np.ceil((z**2 * 0.05 * (1-0.05)) / (m**2)))\n",
    "n2 = int(np.ceil((z**2 * 0.05 * (1-0.05)) / (m**2)))\n",
    "n3 = int(np.ceil((z**2 * 0.05 * (1-0.05)) / (m**2)))\n",
    "n4 = int(np.ceil((z**2 * 0.05 * (1-0.05)) / (m**2)))\n",
    "n5 = int(np.ceil((z**2 * 0.05 * (1-0.05)) / (m**2)))\n",
    "\n",
    "\n",
    "##Using under/over sampling to make the dataset balanced\n",
    "\n",
    "sm1 = RandomUnderSampler(sampling_strategy='majority', random_state=100)\n",
    "sm2 = RandomOverSampler(sampling_strategy='minority', random_state=100)\n",
    "sm3 = ADASYN(sampling_strategy='minority', random_state=100)\n",
    "sm4 = TomekLinks(sampling_strategy='majority')\n",
    "sm5 = NeighbourhoodCleaningRule(n_neighbors=3)\n",
    "\n",
    "m1 = LogisticRegression(random_state=100,max_iter=500)\n",
    "m2 = DecisionTreeClassifier(random_state=100)\n",
    "m3 = RandomForestClassifier(random_state=100)\n",
    "m4 = SVC(random_state=100)\n",
    "m5 = ExtraTreesClassifier(random_state=100)\n",
    "\n",
    "\n",
    "samples = {\n",
    "    'S1': sm1,\n",
    "    'S2': sm2,\n",
    "    'S3': sm3,\n",
    "    'S4': sm4,\n",
    "    'S5': sm5,\n",
    "}\n",
    "models = {\n",
    "    'M1': m1,\n",
    "    'M2': m2,\n",
    "    'M3': m3,\n",
    "    'M4': m4,\n",
    "    'M5': m5,\n",
    "}\n"
   ]
  },
  {
   "cell_type": "code",
   "execution_count": 3,
   "id": "ed97dc6c",
   "metadata": {},
   "outputs": [],
   "source": [
    "ans = {}\n",
    "for sampler_name, sampler in samples.items():\n",
    "    if sampler_name == 'S1':\n",
    "        n = n1\n",
    "    elif sampler_name == 'S2':\n",
    "        n = n2\n",
    "    elif sampler_name == 'S3':\n",
    "        n = n3\n",
    "    elif sampler_name == 'S4':\n",
    "        n = n4\n",
    "    else:\n",
    "        n = n5\n",
    "\n",
    "    X_resampled, y_resampled = sampler.fit_resample(X_train, y_train)\n",
    "    \n",
    "    if len(X_resampled) > n:\n",
    "        X_resampled = X_resampled[:n]\n",
    "        y_resampled = y_resampled[:n]\n",
    "    \n",
    "    for model_name, model in models.items():\n",
    "        model.fit(X_resampled, y_resampled)\n",
    "        \n",
    "        y_pred = model.predict(X_test)\n",
    "        \n",
    "        accuracy = accuracy_score(y_test, y_pred)\n",
    "        \n",
    "        if model_name in ans:\n",
    "            ans[model_name][sampler_name] = accuracy\n",
    "        else:\n",
    "            ans[model_name] = {sampler_name: accuracy}\n"
   ]
  },
  {
   "cell_type": "code",
   "execution_count": 4,
   "id": "0c23b33c",
   "metadata": {},
   "outputs": [
    {
     "name": "stdout",
     "output_type": "stream",
     "text": [
      "Results:\n",
      "\tSampling1   Sampling2   Sampling3   Sampling4   Sampling5\n",
      "M1    0.4129       0.9806       0.9806       0.9806       0.9806   \n",
      "M2    0.5032       0.9806       0.9806       0.9806       0.9677   \n",
      "M3    0.6065       0.9806       0.9806       0.9806       0.9806   \n",
      "M4    0.6387       0.9806       0.9806       0.9806       0.9806   \n",
      "M5    0.7226       0.9806       0.9806       0.9806       0.9806   \n"
     ]
    }
   ],
   "source": [
    "            \n",
    "print('Results:')\n",
    "print('\\tSampling1   Sampling2   Sampling3   Sampling4   Sampling5')\n",
    "for model_name, model_results in ans.items():\n",
    "    print(model_name, end='')\n",
    "    for sampler_name in samples.keys():\n",
    "        if sampler_name in model_results:\n",
    "            print(f'    {model_results[sampler_name]:.4f}   ', end='')\n",
    "        else:\n",
    "            print('\\t\\t', end='')\n",
    "    print() "
   ]
  },
  {
   "cell_type": "code",
   "execution_count": null,
   "id": "b66c9ce7",
   "metadata": {},
   "outputs": [],
   "source": []
  },
  {
   "cell_type": "code",
   "execution_count": null,
   "id": "8f449eb5",
   "metadata": {},
   "outputs": [],
   "source": []
  }
 ],
 "metadata": {
  "kernelspec": {
   "display_name": "Python 3 (ipykernel)",
   "language": "python",
   "name": "python3"
  },
  "language_info": {
   "codemirror_mode": {
    "name": "ipython",
    "version": 3
   },
   "file_extension": ".py",
   "mimetype": "text/x-python",
   "name": "python",
   "nbconvert_exporter": "python",
   "pygments_lexer": "ipython3",
   "version": "3.10.9 (main, Dec 15 2022, 10:44:50) [Clang 14.0.0 (clang-1400.0.29.202)]"
  },
  "vscode": {
   "interpreter": {
    "hash": "b0fa6594d8f4cbf19f97940f81e996739fb7646882a419484c72d19e05852a7e"
   }
  }
 },
 "nbformat": 4,
 "nbformat_minor": 5
}
