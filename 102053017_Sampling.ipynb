{
 "cells": [
  {
   "cell_type": "code",
   "execution_count": 20,
   "id": "86f72440",
   "metadata": {},
   "outputs": [],
   "source": [
    "from sklearn.model_selection import train_test_split\n",
    "from sklearn.metrics import accuracy_score\n",
    "from imblearn.under_sampling import RandomUnderSampler, TomekLinks, NeighbourhoodCleaningRule\n",
    "from imblearn.over_sampling import RandomOverSampler, SMOTE\n",
    "from sklearn.tree import DecisionTreeClassifier\n",
    "from sklearn.ensemble import RandomForestClassifier\n",
    "from sklearn.linear_model import LogisticRegression\n",
    "from sklearn.svm import SVC\n",
    "from sklearn.ensemble import ExtraTreesClassifier\n",
    "import numpy as np\n",
    "import pandas as pd\n",
    "\n"
   ]
  },
  {
   "cell_type": "code",
   "execution_count": 21,
   "id": "e5ab2a92",
   "metadata": {},
   "outputs": [],
   "source": [
    "\n",
    "url = 'https://raw.githubusercontent.com/AnjulaMehto/Sampling_Assignment/main/Creditcard_data.csv'\n",
    "data = pd.read_csv(url)\n",
    "\n",
    "X = data.drop('Class', axis=1)\n",
    "y = data['Class']\n",
    "\n",
    "\n",
    "X_train, X_test, y_train, y_test = train_test_split(X, y, test_size=0.2, random_state=100)\n",
    "\n",
    "z = 2.57  \n",
    "m = 0.05  \n",
    "\n",
    "\n",
    "n1 = int(np.ceil((z**2 * 0.05 * (1-0.05)) / (m**2)))\n",
    "n2 = int(np.ceil((z**2 * 0.05 * (1-0.05)) / (m**2)))\n",
    "n3 = int(np.ceil((z**2 * 0.05 * (1-0.05)) / (m**2)))\n",
    "n4 = int(np.ceil((z**2 * 0.05 * (1-0.05)) / (m**2)))\n",
    "n5 = int(np.ceil((z**2 * 0.05 * (1-0.05)) / (m**2)))\n",
    "\n",
    "sampler1 = RandomUnderSampler(sampling_strategy='majority', random_state=100)\n",
    "sampler2 = RandomOverSampler(sampling_strategy='minority', random_state=100)\n",
    "sampler3 = SMOTE(sampling_strategy='minority', random_state=100)\n",
    "sampler4 = TomekLinks(sampling_strategy='majority')\n",
    "sampler5 = NeighbourhoodCleaningRule(n_neighbors=3)\n",
    "\n",
    "model1 = LogisticRegression(random_state=100,max_iter=500)\n",
    "model2 = DecisionTreeClassifier(random_state=100)\n",
    "model3 = RandomForestClassifier(random_state=100)\n",
    "model4 = SVC(random_state=100)\n",
    "model5 = ExtraTreesClassifier(random_state=100)\n",
    "\n",
    "\n",
    "samplers = {\n",
    "    'Sampling1': sampler1,\n",
    "    'Sampling2': sampler2,\n",
    "    'Sampling3': sampler3,\n",
    "    'Sampling4': sampler4,\n",
    "    'Sampling5': sampler5,\n",
    "}\n",
    "models = {\n",
    "    'M1': model1,\n",
    "    'M2': model2,\n",
    "    'M3': model3,\n",
    "    'M4': model4,\n",
    "    'M5': model5,\n",
    "}\n",
    "\n"
   ]
  },
  {
   "cell_type": "code",
   "execution_count": 22,
   "id": "ed97dc6c",
   "metadata": {},
   "outputs": [],
   "source": [
    "results = {}\n",
    "for sampler_name, sampler in samplers.items():\n",
    "    if sampler_name == 'Sampling1':\n",
    "        n = n1\n",
    "    elif sampler_name == 'Sampling2':\n",
    "        n = n2\n",
    "    elif sampler_name == 'Sampling3':\n",
    "        n = n3\n",
    "    elif sampler_name == 'Sampling4':\n",
    "        n = n4\n",
    "    else:\n",
    "        n = n5\n",
    "\n",
    "    X_resampled, y_resampled = sampler.fit_resample(X_train, y_train)\n",
    "    \n",
    "    if len(X_resampled) > n:\n",
    "        X_resampled = X_resampled[:n]\n",
    "        y_resampled = y_resampled[:n]\n",
    "    \n",
    "    for model_name, model in models.items():\n",
    "        model.fit(X_resampled, y_resampled)\n",
    "        \n",
    "        y_pred = model.predict(X_test)\n",
    "        \n",
    "        accuracy = accuracy_score(y_test, y_pred)\n",
    "        \n",
    "        if model_name in results:\n",
    "            results[model_name][sampler_name] = accuracy\n",
    "        else:\n",
    "            results[model_name] = {sampler_name: accuracy}\n"
   ]
  },
  {
   "cell_type": "code",
   "execution_count": 24,
   "id": "0c23b33c",
   "metadata": {},
   "outputs": [
    {
     "name": "stdout",
     "output_type": "stream",
     "text": [
      "Results:\n",
      "\tSampling1   Sampling2   Sampling3   Sampling4   Sampling5\n",
      "M1    0.4129       0.9806       0.9806       0.9806       0.9806   \n",
      "M2    0.5032       0.9806       0.9806       0.9806       0.9677   \n",
      "M3    0.6065       0.9806       0.9806       0.9806       0.9806   \n",
      "M4    0.6387       0.9806       0.9806       0.9806       0.9806   \n",
      "M5    0.7226       0.9806       0.9806       0.9806       0.9806   \n"
     ]
    }
   ],
   "source": [
    "            \n",
    "print('Results:')\n",
    "print('\\tSampling1   Sampling2   Sampling3   Sampling4   Sampling5')\n",
    "for model_name, model_results in results.items():\n",
    "    print(model_name, end='')\n",
    "    for sampler_name in samplers.keys():\n",
    "        if sampler_name in model_results:\n",
    "            print(f'    {model_results[sampler_name]:.4f}   ', end='')\n",
    "        else:\n",
    "            print('\\t\\t', end='')\n",
    "    print() "
   ]
  },
  {
   "cell_type": "code",
   "execution_count": null,
   "id": "b66c9ce7",
   "metadata": {},
   "outputs": [],
   "source": []
  },
  {
   "cell_type": "code",
   "execution_count": null,
   "id": "8f449eb5",
   "metadata": {},
   "outputs": [],
   "source": []
  }
 ],
 "metadata": {
  "kernelspec": {
   "display_name": "Python 3 (ipykernel)",
   "language": "python",
   "name": "python3"
  },
  "language_info": {
   "codemirror_mode": {
    "name": "ipython",
    "version": 3
   },
   "file_extension": ".py",
   "mimetype": "text/x-python",
   "name": "python",
   "nbconvert_exporter": "python",
   "pygments_lexer": "ipython3",
   "version": "3.9.13"
  }
 },
 "nbformat": 4,
 "nbformat_minor": 5
}
